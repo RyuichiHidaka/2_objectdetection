{
 "cells": [
  {
   "cell_type": "code",
   "execution_count": 1,
   "id": "b2ecf72a",
   "metadata": {},
   "outputs": [],
   "source": [
    "import os\n",
    "import urllib.request\n",
    "import zipfile\n",
    "import tarfile"
   ]
  },
  {
   "cell_type": "code",
   "execution_count": 3,
   "id": "abc42a36",
   "metadata": {},
   "outputs": [],
   "source": [
    "#現在ディレクトリ下に/dataと/weightsディレクトリを作成\n",
    "data_dir=\"./data/\"\n",
    "if not os.path.exists(data_dir):\n",
    "    os.mkdir(data_dir)\n",
    "    \n",
    "weights_dir=\"./weights/\"\n",
    "if not os.path.exists(weights_dir):\n",
    "    os.mkdir(weights_dir)"
   ]
  },
  {
   "cell_type": "code",
   "execution_count": 4,
   "id": "b0d19dd4",
   "metadata": {},
   "outputs": [],
   "source": [
    "url=\"https://s3.amazonaws.com/amdegroot-models/vgg16_reducedfc.pth\"\n",
    "target_path=os.path.join(weights_dir, \"vgg19_reducedfc.pth\")\n",
    "if not os.path.exists(target_path):\n",
    "    urllib.request.urlretrieve(url, target_path)\n",
    "\n",
    "url=\"https://s3.amazonaws.com/amdegroot-models/ssd300_mAP_77.43_v2.pth\"\n",
    "target_path=os.path.join(weights_dir, \"ssd300_mAP_77.43_v2.pth\")\n",
    "if not os.path.exists(target_path):\n",
    "    urllib.request.urlretrieve(url, target_path)"
   ]
  },
  {
   "cell_type": "code",
   "execution_count": null,
   "id": "655c515d",
   "metadata": {},
   "outputs": [],
   "source": []
  }
 ],
 "metadata": {
  "kernelspec": {
   "display_name": "Python 3 (ipykernel)",
   "language": "python",
   "name": "python3"
  },
  "language_info": {
   "codemirror_mode": {
    "name": "ipython",
    "version": 3
   },
   "file_extension": ".py",
   "mimetype": "text/x-python",
   "name": "python",
   "nbconvert_exporter": "python",
   "pygments_lexer": "ipython3",
   "version": "3.11.5"
  }
 },
 "nbformat": 4,
 "nbformat_minor": 5
}
